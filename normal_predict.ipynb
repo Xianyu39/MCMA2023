{
 "cells": [
  {
   "cell_type": "code",
   "execution_count": 6,
   "metadata": {},
   "outputs": [],
   "source": [
    "import pandas as pd\n",
    "import numpy as np\n",
    "import matplotlib.pyplot as plt\n",
    "import scipy.stats as stats\n",
    "import scipy.stats as stats\n",
    "from scipy.integrate import quad"
   ]
  },
  {
   "cell_type": "code",
   "execution_count": 14,
   "metadata": {},
   "outputs": [],
   "source": [
    "def normalize(mu,sigma):\n",
    "    # 正态分布的均值和标准差\n",
    "    # 定义计算正态分布在指定区间内的概率密度的函数\n",
    "    def integrand(x):\n",
    "        return stats.norm.pdf(x, mu, sigma)\n",
    "\n",
    "    # 要计算的多个区间\n",
    "\n",
    "    intervals = [(0.5, 1.5), (1.5, 2.5), (2.5, 3.5), (3.5, 4.5), (4.5, 5.5), (5.5, 6.5), (6.5, 7.5)]\n",
    "\n",
    "    # 计算每个区间的概率密度\n",
    "    probabilities = []\n",
    "    for interval in intervals:\n",
    "        p, _ = quad(integrand, interval[0], interval[1])\n",
    "        probabilities.append(p)\n",
    "\n",
    "    fig, ax = plt.subplots()\n",
    "    ax.bar(np.arange(len(intervals)), probabilities, width=0.4, label='Distribution 1')\n",
    "    ax.set_xticks(np.arange(len(intervals)))\n",
    "    ax.set_xticklabels(['{}-{}'.format((interval[0]), (interval[1])) for interval in intervals])\n",
    "    ax.set_ylabel('Probability Density')\n",
    "    ax.legend()\n",
    "    plt.show()"
   ]
  }
 ],
 "metadata": {
  "kernelspec": {
   "display_name": "Python310",
   "language": "python",
   "name": "python3"
  },
  "language_info": {
   "codemirror_mode": {
    "name": "ipython",
    "version": 3
   },
   "file_extension": ".py",
   "mimetype": "text/x-python",
   "name": "python",
   "nbconvert_exporter": "python",
   "pygments_lexer": "ipython3",
   "version": "3.10.8"
  },
  "orig_nbformat": 4,
  "vscode": {
   "interpreter": {
    "hash": "9a78ea20e12be2ef048fec43e927d37fcada72422f237c891b34f5d0b59b0625"
   }
  }
 },
 "nbformat": 4,
 "nbformat_minor": 2
}
