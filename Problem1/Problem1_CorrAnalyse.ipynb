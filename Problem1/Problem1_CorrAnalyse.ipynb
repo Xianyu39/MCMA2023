{
 "cells": [
  {
   "cell_type": "code",
   "execution_count": 44,
   "metadata": {},
   "outputs": [
    {
     "data": {
      "text/plain": [
       "0      1.055036\n",
       "1      1.204824\n",
       "2      1.212601\n",
       "3      1.176903\n",
       "4      1.085923\n",
       "         ...   \n",
       "350    1.080509\n",
       "351    0.997635\n",
       "352    1.019804\n",
       "353    1.024209\n",
       "354    1.027640\n",
       "Name: Stddev, Length: 355, dtype: float64"
      ]
     },
     "execution_count": 44,
     "metadata": {},
     "output_type": "execute_result"
    }
   ],
   "source": [
    "import pandas as pd\n",
    "import numpy as np\n",
    "import matplotlib.pyplot as plt\n",
    "\n",
    "raw = pd.read_excel(\"./Normalized_table.xlsx\")\n",
    "wordFeaturesRaw = pd.read_excel(\"./xk/excel/feature.xlsx\")\n",
    "wordFeaturesColunm = ['Replication number','Frequency','characters','root']\n",
    "wordFeatures = pd.concat([raw.loc[:, 'Word'], wordFeaturesRaw.loc[:, wordFeaturesColunm]], axis=1)\n",
    "statsData = raw.iloc[:,6:6+17]\n",
    "# wordFeatures\n",
    "means = statsData['Means']\n",
    "stds = statsData['Stddev']\n",
    "predictions = statsData.iloc[:,10:17]"
   ]
  },
  {
   "cell_type": "code",
   "execution_count": 69,
   "metadata": {},
   "outputs": [
    {
     "data": {
      "text/html": [
       "<div>\n",
       "<style scoped>\n",
       "    .dataframe tbody tr th:only-of-type {\n",
       "        vertical-align: middle;\n",
       "    }\n",
       "\n",
       "    .dataframe tbody tr th {\n",
       "        vertical-align: top;\n",
       "    }\n",
       "\n",
       "    .dataframe thead th {\n",
       "        text-align: right;\n",
       "    }\n",
       "</style>\n",
       "<table border=\"1\" class=\"dataframe\">\n",
       "  <thead>\n",
       "    <tr style=\"text-align: right;\">\n",
       "      <th></th>\n",
       "      <th>Replication number</th>\n",
       "      <th>Frequency</th>\n",
       "      <th>characters</th>\n",
       "      <th>root</th>\n",
       "      <th>Means</th>\n",
       "      <th>Stddev</th>\n",
       "    </tr>\n",
       "  </thead>\n",
       "  <tbody>\n",
       "    <tr>\n",
       "      <th>0</th>\n",
       "      <td>-0.617299</td>\n",
       "      <td>-0.194216</td>\n",
       "      <td>-0.313330</td>\n",
       "      <td>-1.012756</td>\n",
       "      <td>-0.162934</td>\n",
       "      <td>-0.518944</td>\n",
       "    </tr>\n",
       "    <tr>\n",
       "      <th>1</th>\n",
       "      <td>-0.617299</td>\n",
       "      <td>-0.208575</td>\n",
       "      <td>-0.313330</td>\n",
       "      <td>0.984624</td>\n",
       "      <td>0.061162</td>\n",
       "      <td>0.701283</td>\n",
       "    </tr>\n",
       "    <tr>\n",
       "      <th>2</th>\n",
       "      <td>1.531144</td>\n",
       "      <td>-0.204473</td>\n",
       "      <td>-0.313330</td>\n",
       "      <td>-1.012756</td>\n",
       "      <td>1.106940</td>\n",
       "      <td>0.764636</td>\n",
       "    </tr>\n",
       "    <tr>\n",
       "      <th>3</th>\n",
       "      <td>-0.617299</td>\n",
       "      <td>-0.139515</td>\n",
       "      <td>-0.313330</td>\n",
       "      <td>0.984624</td>\n",
       "      <td>0.584051</td>\n",
       "      <td>0.473829</td>\n",
       "    </tr>\n",
       "    <tr>\n",
       "      <th>4</th>\n",
       "      <td>-0.617299</td>\n",
       "      <td>0.282368</td>\n",
       "      <td>-0.313330</td>\n",
       "      <td>-1.012756</td>\n",
       "      <td>-1.059315</td>\n",
       "      <td>-0.267323</td>\n",
       "    </tr>\n",
       "    <tr>\n",
       "      <th>...</th>\n",
       "      <td>...</td>\n",
       "      <td>...</td>\n",
       "      <td>...</td>\n",
       "      <td>...</td>\n",
       "      <td>...</td>\n",
       "      <td>...</td>\n",
       "    </tr>\n",
       "    <tr>\n",
       "      <th>350</th>\n",
       "      <td>1.531144</td>\n",
       "      <td>-0.213361</td>\n",
       "      <td>-0.313330</td>\n",
       "      <td>0.984624</td>\n",
       "      <td>0.633850</td>\n",
       "      <td>-0.311427</td>\n",
       "    </tr>\n",
       "    <tr>\n",
       "      <th>351</th>\n",
       "      <td>-0.617299</td>\n",
       "      <td>-0.197635</td>\n",
       "      <td>-0.313330</td>\n",
       "      <td>0.984624</td>\n",
       "      <td>-0.113135</td>\n",
       "      <td>-0.986551</td>\n",
       "    </tr>\n",
       "    <tr>\n",
       "      <th>352</th>\n",
       "      <td>-0.617299</td>\n",
       "      <td>-0.206524</td>\n",
       "      <td>-0.313330</td>\n",
       "      <td>-1.012756</td>\n",
       "      <td>0.509352</td>\n",
       "      <td>-0.805953</td>\n",
       "    </tr>\n",
       "    <tr>\n",
       "      <th>353</th>\n",
       "      <td>-0.617299</td>\n",
       "      <td>-0.212678</td>\n",
       "      <td>-0.313330</td>\n",
       "      <td>0.984624</td>\n",
       "      <td>-0.138034</td>\n",
       "      <td>-0.770068</td>\n",
       "    </tr>\n",
       "    <tr>\n",
       "      <th>354</th>\n",
       "      <td>-0.617299</td>\n",
       "      <td>-0.189430</td>\n",
       "      <td>1.638113</td>\n",
       "      <td>0.984624</td>\n",
       "      <td>0.359955</td>\n",
       "      <td>-0.742117</td>\n",
       "    </tr>\n",
       "  </tbody>\n",
       "</table>\n",
       "<p>355 rows × 6 columns</p>\n",
       "</div>"
      ],
      "text/plain": [
       "     Replication number  Frequency  characters      root     Means    Stddev\n",
       "0             -0.617299  -0.194216   -0.313330 -1.012756 -0.162934 -0.518944\n",
       "1             -0.617299  -0.208575   -0.313330  0.984624  0.061162  0.701283\n",
       "2              1.531144  -0.204473   -0.313330 -1.012756  1.106940  0.764636\n",
       "3             -0.617299  -0.139515   -0.313330  0.984624  0.584051  0.473829\n",
       "4             -0.617299   0.282368   -0.313330 -1.012756 -1.059315 -0.267323\n",
       "..                  ...        ...         ...       ...       ...       ...\n",
       "350            1.531144  -0.213361   -0.313330  0.984624  0.633850 -0.311427\n",
       "351           -0.617299  -0.197635   -0.313330  0.984624 -0.113135 -0.986551\n",
       "352           -0.617299  -0.206524   -0.313330 -1.012756  0.509352 -0.805953\n",
       "353           -0.617299  -0.212678   -0.313330  0.984624 -0.138034 -0.770068\n",
       "354           -0.617299  -0.189430    1.638113  0.984624  0.359955 -0.742117\n",
       "\n",
       "[355 rows x 6 columns]"
      ]
     },
     "execution_count": 69,
     "metadata": {},
     "output_type": "execute_result"
    }
   ],
   "source": [
    "checkData = pd.concat([wordFeatures[wordFeaturesColunm], means, stds], axis=1)\n",
    "checkData = (checkData-checkData.mean())/checkData.std()\n",
    "checkData"
   ]
  },
  {
   "cell_type": "code",
   "execution_count": 76,
   "metadata": {},
   "outputs": [
    {
     "data": {
      "text/html": [
       "<div>\n",
       "<style scoped>\n",
       "    .dataframe tbody tr th:only-of-type {\n",
       "        vertical-align: middle;\n",
       "    }\n",
       "\n",
       "    .dataframe tbody tr th {\n",
       "        vertical-align: top;\n",
       "    }\n",
       "\n",
       "    .dataframe thead th {\n",
       "        text-align: right;\n",
       "    }\n",
       "</style>\n",
       "<table border=\"1\" class=\"dataframe\">\n",
       "  <thead>\n",
       "    <tr style=\"text-align: right;\">\n",
       "      <th></th>\n",
       "      <th>Replication number</th>\n",
       "      <th>Frequency</th>\n",
       "      <th>characters</th>\n",
       "      <th>root</th>\n",
       "      <th>Means</th>\n",
       "      <th>Stddev</th>\n",
       "    </tr>\n",
       "  </thead>\n",
       "  <tbody>\n",
       "    <tr>\n",
       "      <th>Replication number</th>\n",
       "      <td>1.000000</td>\n",
       "      <td>-0.125779</td>\n",
       "      <td>0.037458</td>\n",
       "      <td>-0.046136</td>\n",
       "      <td>0.391946</td>\n",
       "      <td>-0.111305</td>\n",
       "    </tr>\n",
       "    <tr>\n",
       "      <th>Frequency</th>\n",
       "      <td>-0.125779</td>\n",
       "      <td>1.000000</td>\n",
       "      <td>0.272531</td>\n",
       "      <td>0.007094</td>\n",
       "      <td>-0.203228</td>\n",
       "      <td>0.124238</td>\n",
       "    </tr>\n",
       "    <tr>\n",
       "      <th>characters</th>\n",
       "      <td>0.037458</td>\n",
       "      <td>0.272531</td>\n",
       "      <td>1.000000</td>\n",
       "      <td>0.075062</td>\n",
       "      <td>-0.017564</td>\n",
       "      <td>-0.044125</td>\n",
       "    </tr>\n",
       "    <tr>\n",
       "      <th>root</th>\n",
       "      <td>-0.046136</td>\n",
       "      <td>0.007094</td>\n",
       "      <td>0.075062</td>\n",
       "      <td>1.000000</td>\n",
       "      <td>0.043657</td>\n",
       "      <td>0.073701</td>\n",
       "    </tr>\n",
       "    <tr>\n",
       "      <th>Means</th>\n",
       "      <td>0.391946</td>\n",
       "      <td>-0.203228</td>\n",
       "      <td>-0.017564</td>\n",
       "      <td>0.043657</td>\n",
       "      <td>1.000000</td>\n",
       "      <td>0.225463</td>\n",
       "    </tr>\n",
       "    <tr>\n",
       "      <th>Stddev</th>\n",
       "      <td>-0.111305</td>\n",
       "      <td>0.124238</td>\n",
       "      <td>-0.044125</td>\n",
       "      <td>0.073701</td>\n",
       "      <td>0.225463</td>\n",
       "      <td>1.000000</td>\n",
       "    </tr>\n",
       "  </tbody>\n",
       "</table>\n",
       "</div>"
      ],
      "text/plain": [
       "                    Replication number  Frequency  characters      root  \\\n",
       "Replication number            1.000000  -0.125779    0.037458 -0.046136   \n",
       "Frequency                    -0.125779   1.000000    0.272531  0.007094   \n",
       "characters                    0.037458   0.272531    1.000000  0.075062   \n",
       "root                         -0.046136   0.007094    0.075062  1.000000   \n",
       "Means                         0.391946  -0.203228   -0.017564  0.043657   \n",
       "Stddev                       -0.111305   0.124238   -0.044125  0.073701   \n",
       "\n",
       "                       Means    Stddev  \n",
       "Replication number  0.391946 -0.111305  \n",
       "Frequency          -0.203228  0.124238  \n",
       "characters         -0.017564 -0.044125  \n",
       "root                0.043657  0.073701  \n",
       "Means               1.000000  0.225463  \n",
       "Stddev              0.225463  1.000000  "
      ]
     },
     "execution_count": 76,
     "metadata": {},
     "output_type": "execute_result"
    }
   ],
   "source": [
    "checkData.corr().loc[['Replication number','Frequency','characters','root'], ['Means','Stddev']]\n",
    "checkData.corr('spearman')"
   ]
  },
  {
   "attachments": {},
   "cell_type": "markdown",
   "metadata": {},
   "source": [
    "导入包"
   ]
  },
  {
   "cell_type": "code",
   "execution_count": 11,
   "metadata": {},
   "outputs": [],
   "source": [
    "import pandas as pd\n",
    "import numpy as np\n",
    "import matplotlib.pyplot as plt\n",
    "import scipy.stats as stats\n",
    "import scipy.stats as stats\n",
    "from scipy.integrate import quad\n",
    "from scipy.stats import ttest_ind"
   ]
  },
  {
   "attachments": {},
   "cell_type": "markdown",
   "metadata": {},
   "source": [
    "Replication number与means以及stddev进行方差分析"
   ]
  },
  {
   "cell_type": "code",
   "execution_count": 9,
   "metadata": {},
   "outputs": [],
   "source": [
    "data = pd.read_excel('../Normalized_table.xlsx')\n",
    "data1 = pd.read_excel('../xk/excel/feature.xlsx')"
   ]
  },
  {
   "cell_type": "code",
   "execution_count": 21,
   "metadata": {},
   "outputs": [
    {
     "name": "stdout",
     "output_type": "stream",
     "text": [
      "Replication number-Means\n",
      "Once: mean=4.10, std=0.37\n",
      "Twice: mean=4.42, std=0.38\n",
      "t=-7.14626141440085405065, p=0.00000000000519520662\n"
     ]
    }
   ],
   "source": [
    "male_height = data[data1['Replication number'] == 1]['Means']\n",
    "female_height = data[data1['Replication number'] == 2]['Means']\n",
    "male_mean, female_mean = male_height.mean(), female_height.mean()\n",
    "male_std, female_std = male_height.std(), female_height.std()\n",
    "t, p = ttest_ind(male_height, female_height)\n",
    "print('Replication number-Means')\n",
    "print('Once: mean=%.2f, std=%.2f' % (male_mean, male_std))\n",
    "print('Twice: mean=%.2f, std=%.2f' % (female_mean, female_std))\n",
    "print('t=%.20f, p=%.20f' % (t, p))\n"
   ]
  },
  {
   "cell_type": "code",
   "execution_count": 20,
   "metadata": {},
   "outputs": [
    {
     "name": "stdout",
     "output_type": "stream",
     "text": [
      "Replication number-Stddev\n",
      "Once: mean=1.13, std=0.12\n",
      "Twice: mean=1.10, std=0.12\n",
      "t=1.92144315163186352180, p=0.05548538304628135298\n"
     ]
    }
   ],
   "source": [
    "male_height = data[data1['Replication number'] == 1]['Stddev']\n",
    "female_height = data[data1['Replication number'] == 2]['Stddev']\n",
    "male_mean, female_mean = male_height.mean(), female_height.mean()\n",
    "male_std, female_std = male_height.std(), female_height.std()\n",
    "t, p = ttest_ind(male_height, female_height)\n",
    "print('Replication number-Stddev')\n",
    "print('Once: mean=%.2f, std=%.2f' % (male_mean, male_std))\n",
    "print('Twice: mean=%.2f, std=%.2f' % (female_mean, female_std))\n",
    "print('t=%.20f, p=%.20f' % (t, p))\n"
   ]
  },
  {
   "attachments": {},
   "cell_type": "markdown",
   "metadata": {},
   "source": [
    "root与means以及stddev进行方差分析"
   ]
  },
  {
   "cell_type": "code",
   "execution_count": 22,
   "metadata": {},
   "outputs": [
    {
     "name": "stdout",
     "output_type": "stream",
     "text": [
      "Replication number-Stddev\n",
      "Once: mean=4.18, std=0.42\n",
      "Twice: mean=4.21, std=0.38\n",
      "t=-0.66331964442032520513, p=0.50755879075395848865\n"
     ]
    }
   ],
   "source": [
    "male_height = data[data1['root'] == 0]['Means']\n",
    "female_height = data[data1['root'] == 1]['Means']\n",
    "male_mean, female_mean = male_height.mean(), female_height.mean()\n",
    "male_std, female_std = male_height.std(), female_height.std()\n",
    "t, p = ttest_ind(male_height, female_height)\n",
    "print('Replication number-Stddev')\n",
    "print('Once: mean=%.2f, std=%.2f' % (male_mean, male_std))\n",
    "print('Twice: mean=%.2f, std=%.2f' % (female_mean, female_std))\n",
    "print('t=%.20f, p=%.20f' % (t, p))"
   ]
  },
  {
   "cell_type": "code",
   "execution_count": 24,
   "metadata": {},
   "outputs": [
    {
     "name": "stdout",
     "output_type": "stream",
     "text": [
      "Replication number-Stddev\n",
      "Once: mean=1.11, std=0.13\n",
      "Twice: mean=1.12, std=0.11\n",
      "t=-0.76975235612352166381, p=0.44196159135218626712\n"
     ]
    }
   ],
   "source": [
    "male_height = data[data1['root'] == 0]['Stddev']\n",
    "female_height = data[data1['root'] == 1]['Stddev']\n",
    "male_mean, female_mean = male_height.mean(), female_height.mean()\n",
    "male_std, female_std = male_height.std(), female_height.std()\n",
    "t, p = ttest_ind(male_height, female_height)\n",
    "print('Replication number-Stddev')\n",
    "print('Once: mean=%.2f, std=%.2f' % (male_mean, male_std))\n",
    "print('Twice: mean=%.2f, std=%.2f' % (female_mean, female_std))\n",
    "print('t=%.20f, p=%.20f' % (t, p))"
   ]
  },
  {
   "attachments": {},
   "cell_type": "markdown",
   "metadata": {},
   "source": [
    "对Frequency、Means以及Stddev作QQ图"
   ]
  },
  {
   "cell_type": "code",
   "execution_count": 26,
   "metadata": {},
   "outputs": [
    {
     "data": {
      "image/png": "[encoded data removed]",
      "text/plain": [
       "<Figure size 640x480 with 1 Axes>"
      ]
     },
     "metadata": {},
     "output_type": "display_data"
    }
   ],
   "source": [
    "data = pd.read_excel('../Normalized_table.xlsx')\n",
    "means = data['Means']\n",
    "mean = np.mean(means) # 计算均值\n",
    "std_dev = np.std(means) # 计算标准差\n",
    "\n",
    "quantiles_data = np.percentile(means, np.arange(0, 100, 1)) #实际的\n",
    "quantiles_norm = stats.norm.ppf(np.arange(0, 100, 1)/100, loc=mean, scale=std_dev) ##理论的\n",
    "\n",
    "plt.scatter(quantiles_norm, quantiles_data)\n",
    "plt.plot([3, 5.5], [3, 5.5], 'r--')  # 绘制对角线\n",
    "plt.xlabel('Theoretical quantiles')\n",
    "plt.ylabel('Sample quantiles')\n",
    "plt.title('Q-Q Plot of Normal Distribution')\n",
    "plt.show()"
   ]
  },
  {
   "cell_type": "code",
   "execution_count": 30,
   "metadata": {},
   "outputs": [
    {
     "data": {
      "image/png": "[encoded data removed]",
      "text/plain": [
       "<Figure size 640x480 with 1 Axes>"
      ]
     },
     "metadata": {},
     "output_type": "display_data"
    }
   ],
   "source": [
    "data = pd.read_excel('../Normalized_table.xlsx')\n",
    "means = data['Stddev']\n",
    "mean = np.mean(means) # 计算均值\n",
    "std_dev = np.std(means) # 计算标准差\n",
    "\n",
    "quantiles_data = np.percentile(means, np.arange(0, 100, 1)) #实际的\n",
    "quantiles_norm = stats.norm.ppf(np.arange(0, 100, 1)/100, loc=mean, scale=std_dev) ##理论的\n",
    "\n",
    "plt.scatter(quantiles_norm, quantiles_data)\n",
    "plt.plot([0.8, 1.5], [0.8, 1.5], 'r--')  # 绘制对角线\n",
    "plt.xlabel('Theoretical quantiles')\n",
    "plt.ylabel('Sample quantiles')\n",
    "plt.title('Q-Q Plot of Normal Distribution')\n",
    "plt.show()"
   ]
  },
  {
   "cell_type": "code",
   "execution_count": 34,
   "metadata": {},
   "outputs": [
    {
     "data": {
      "image/png": "[encoded data removed]",
      "text/plain": [
       "<Figure size 640x480 with 1 Axes>"
      ]
     },
     "metadata": {},
     "output_type": "display_data"
    }
   ],
   "source": [
    "data1 = pd.read_excel('../xk/excel/feature.xlsx')\n",
    "means = data1['Frequency_scaled']\n",
    "mean = np.mean(means) # 计算均值\n",
    "std_dev = np.std(means) # 计算标准差\n",
    "\n",
    "quantiles_data = np.percentile(means, np.arange(0, 100, 1)) #实际的\n",
    "quantiles_norm = stats.norm.ppf(np.arange(0, 100, 1)/100, loc=mean, scale=std_dev) ##理论的\n",
    "\n",
    "plt.scatter(quantiles_norm, quantiles_data)\n",
    "plt.plot([-0.2, 0.2], [-0.2, 0.2], 'r--')  # 绘制对角线\n",
    "plt.xlabel('Theoretical quantiles')\n",
    "plt.ylabel('Sample quantiles')\n",
    "plt.title('Q-Q Plot of Normal Distribution')\n",
    "plt.show()"
   ]
  }
 ],
 "metadata": {
  "kernelspec": {
   "display_name": "base",
   "language": "python",
   "name": "python3"
  },
  "language_info": {
   "codemirror_mode": {
    "name": "ipython",
    "version": 3
   },
   "file_extension": ".py",
   "mimetype": "text/x-python",
   "name": "python",
   "nbconvert_exporter": "python",
   "pygments_lexer": "ipython3",
   "version": "3.9.5"
  },
  "orig_nbformat": 4,
  "vscode": {
   "interpreter": {
    "hash": "f1d37780ab489f662228f5a569a4e1cf4ded8eed5ae9b0f41ad89c1b128ac3c2"
   }
  }
 },
 "nbformat": 4,
 "nbformat_minor": 2
}
