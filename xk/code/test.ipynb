{
 "cells": [
  {
   "cell_type": "code",
   "execution_count": 1,
   "metadata": {},
   "outputs": [
    {
     "name": "stderr",
     "output_type": "stream",
     "text": [
      "c:\\Users\\S2-012\\Anaconda3\\lib\\site-packages\\numpy\\_distributor_init.py:32: UserWarning: loaded more than 1 DLL from .libs:\n",
      "c:\\Users\\S2-012\\Anaconda3\\lib\\site-packages\\numpy\\.libs\\libopenblas.QVLO2T66WEPI7JZ63PS3HMOHFEY472BC.gfortran-win_amd64.dll\n",
      "c:\\Users\\S2-012\\Anaconda3\\lib\\site-packages\\numpy\\.libs\\libopenblas.XWYDX2IKJW2NMTWSFYNGFUWKQU3LYTCZ.gfortran-win_amd64.dll\n",
      "  stacklevel=1)\n",
      "c:\\Users\\S2-012\\Anaconda3\\lib\\site-packages\\pandas\\compat\\_optional.py:138: UserWarning: Pandas requires version '2.7.0' or newer of 'numexpr' (version '2.6.8' currently installed).\n",
      "  warnings.warn(msg, UserWarning)\n"
     ]
    }
   ],
   "source": [
    "import numpy as np\n",
    "import pandas as pd"
   ]
  },
  {
   "cell_type": "code",
   "execution_count": 21,
   "metadata": {},
   "outputs": [
    {
     "name": "stdout",
     "output_type": "stream",
     "text": [
      "4.1766246056782315\n",
      "4.195436619718306\n",
      "0.4010486512018551\n"
     ]
    },
    {
     "data": {
      "text/plain": [
       "array([3.84, 3.86, 3.87, 3.87, 3.92, 3.92, 3.93, 4.  , 4.05, 4.06, 4.06,\n",
       "       4.08, 4.1 , 4.11, 4.14, 4.15, 4.21, 4.23, 4.24, 4.28, 4.32, 4.32,\n",
       "       4.33, 4.4 , 4.45, 4.49, 4.49, 4.51, 4.52, 4.56, 4.63, 4.68, 4.73,\n",
       "       4.79, 4.83, 5.08, 5.35, 5.99])"
      ]
     },
     "execution_count": 21,
     "metadata": {},
     "output_type": "execute_result"
    }
   ],
   "source": [
    "data=pd.read_excel('./../../Normalized_table.xlsx')\n",
    "data1=pd.read_excel('../excel/feature.xlsx')\n",
    "\n",
    "dt1 = data[data1['classify']==0]['Means']\n",
    "dt2 = data[data1['classify']==1]['Means']\n",
    "dt = data['Means']\n",
    "\n",
    "mean1 = np.mean(dt1)\n",
    "std1 = np.std(dt1)\n",
    "mean2 = np.mean(dt2)\n",
    "std2 = np.std(dt2)\n",
    "mean = np.mean(dt)\n",
    "# std = np.std(dt)\n",
    "# dtt = np.sort(dt)\n",
    "\n",
    "print(mean1)\n",
    "# print(std1)\n",
    "# print(mean2)\n",
    "# print(std2)\n",
    "print(mean)\n",
    "print(std)\n",
    "\n",
    "dtt2 = np.sort(dt2)\n",
    "dtt2\n"
   ]
  }
 ],
 "metadata": {
  "kernelspec": {
   "display_name": "Python 3",
   "language": "python",
   "name": "python3"
  },
  "language_info": {
   "codemirror_mode": {
    "name": "ipython",
    "version": 3
   },
   "file_extension": ".py",
   "mimetype": "text/x-python",
   "name": "python",
   "nbconvert_exporter": "python",
   "pygments_lexer": "ipython3",
   "version": "3.7.1"
  },
  "orig_nbformat": 4,
  "vscode": {
   "interpreter": {
    "hash": "af4185fc749e73421171eb5ffad8fe9134a547a029b132236d8dc316867ecc83"
   }
  }
 },
 "nbformat": 4,
 "nbformat_minor": 2
}
