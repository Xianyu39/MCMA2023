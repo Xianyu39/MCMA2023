{
 "cells": [
  {
   "cell_type": "code",
   "execution_count": 9,
   "metadata": {},
   "outputs": [],
   "source": [
    "import pandas as pd\n",
    "import numpy as np\n",
    "\n",
    "raw=pd.read_excel(\"./Problem_C_Data_Wordle.xlsx\")"
   ]
  },
  {
   "cell_type": "code",
   "execution_count": 10,
   "metadata": {},
   "outputs": [
    {
     "data": {
      "text/plain": [
       "0      manly\n",
       "1      molar\n",
       "2      havoc\n",
       "3      impel\n",
       "4      condo\n",
       "       ...  \n",
       "354    drink\n",
       "355    query\n",
       "356    gorge\n",
       "357    crank\n",
       "358    slump\n",
       "Name: Word, Length: 359, dtype: object"
      ]
     },
     "execution_count": 10,
     "metadata": {},
     "output_type": "execute_result"
    }
   ],
   "source": [
    "words=raw['Word']\n",
    "words"
   ]
  },
  {
   "cell_type": "code",
   "execution_count": 47,
   "metadata": {},
   "outputs": [],
   "source": [
    "import os\n",
    "\n",
    "# 删除所有代理设置\n",
    "if 'HTTP_PROXY' in os.environ:\n",
    "    del os.environ['HTTP_PROXY']\n",
    "if 'HTTPS_PROXY' in os.environ:\n",
    "    del os.environ['HTTPS_PROXY']\n",
    "if 'http_proxy' in os.environ:\n",
    "    del os.environ['http_proxy']\n",
    "if 'https_proxy' in os.environ:\n",
    "    del os.environ['https_proxy']\n"
   ]
  }
 ],
 "metadata": {
  "kernelspec": {
   "display_name": "base",
   "language": "python",
   "name": "python3"
  },
  "language_info": {
   "codemirror_mode": {
    "name": "ipython",
    "version": 3
   },
   "file_extension": ".py",
   "mimetype": "text/x-python",
   "name": "python",
   "nbconvert_exporter": "python",
   "pygments_lexer": "ipython3",
   "version": "3.9.5"
  },
  "orig_nbformat": 4,
  "vscode": {
   "interpreter": {
    "hash": "f1d37780ab489f662228f5a569a4e1cf4ded8eed5ae9b0f41ad89c1b128ac3c2"
   }
  }
 },
 "nbformat": 4,
 "nbformat_minor": 2
}
